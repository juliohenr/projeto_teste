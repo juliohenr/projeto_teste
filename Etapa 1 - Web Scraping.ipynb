{
 "cells": [
  {
   "cell_type": "markdown",
   "metadata": {},
   "source": [
    "<center><h1>Etapa 1 - Web Scraping</h1></center>\n",
    "<img src=\"images/scraping.webp\" width=\"400px\">"
   ]
  },
  {
   "cell_type": "markdown",
   "metadata": {},
   "source": [
    "### Importar Bibliotecas"
   ]
  },
  {
   "cell_type": "code",
   "execution_count": 8,
   "metadata": {},
   "outputs": [],
   "source": [
    "from tqdm import tqdm\n",
    "import string\n",
    "import sys\n",
    "from urllib.request import urlopen\n",
    "import nltk\n",
    "from bs4 import BeautifulSoup\n",
    "import os"
   ]
  },
  {
   "cell_type": "markdown",
   "metadata": {},
   "source": [
    "### URL alvo para Web Scrapping"
   ]
  },
  {
   "cell_type": "code",
   "execution_count": 30,
   "metadata": {},
   "outputs": [],
   "source": [
    "url = 'https://www.letras.mus.br'"
   ]
  },
  {
   "cell_type": "code",
   "execution_count": 31,
   "metadata": {},
   "outputs": [],
   "source": [
    "band = \"korn\""
   ]
  },
  {
   "cell_type": "code",
   "execution_count": 34,
   "metadata": {},
   "outputs": [
    {
     "name": "stdout",
     "output_type": "stream",
     "text": [
      "Obtendo links/músicas\n"
     ]
    }
   ],
   "source": [
    "print('Obtendo links/músicas')\n",
    "ctrl_page = set()\n",
    "html = urlopen(f\"{url}/{band}\")\n",
    "bs = BeautifulSoup(html, 'html.parser')\n",
    "for link in bs.find('ul', {'class': 'cnt-list'}).find_all('a'):\n",
    "    if 'href' in link.attrs:\n",
    "        if link.attrs['href'] not in ctrl_page:\n",
    "            ctrl_page.add(f\"{link.attrs['href']}\")\n",
    "            get_music(band,link.attrs['href'])"
   ]
  },
  {
   "cell_type": "code",
   "execution_count": 35,
   "metadata": {},
   "outputs": [
    {
     "data": {
      "text/plain": [
       "[]"
      ]
     },
     "execution_count": 35,
     "metadata": {},
     "output_type": "execute_result"
    }
   ],
   "source": [
    "bs.find('ul', {'class': 'cnt-list'}).find_all('a')"
   ]
  },
  {
   "cell_type": "code",
   "execution_count": 36,
   "metadata": {},
   "outputs": [],
   "source": [
    "bs = BeautifulSoup(html, 'html.parser')"
   ]
  },
  {
   "cell_type": "code",
   "execution_count": 37,
   "metadata": {},
   "outputs": [
    {
     "data": {
      "text/plain": []
     },
     "execution_count": 37,
     "metadata": {},
     "output_type": "execute_result"
    }
   ],
   "source": [
    "bs"
   ]
  },
  {
   "cell_type": "markdown",
   "metadata": {},
   "source": [
    "### Coleta links de letras de músicas de uma banda"
   ]
  },
  {
   "cell_type": "markdown",
   "metadata": {},
   "source": [
    "Captura todos os links de uma banda, grupo ou artista a partir da página https://www.letras.mus.br/{banda}. "
   ]
  },
  {
   "cell_type": "code",
   "execution_count": 38,
   "metadata": {},
   "outputs": [],
   "source": [
    "def get_lyrics(band):\n",
    "    try:\n",
    "        print('Obtendo links/músicas')\n",
    "        ctrl_page = set()\n",
    "        html = urlopen(f\"{url}/{band}\")\n",
    "        bs = BeautifulSoup(html, 'html.parser')\n",
    "        for link in bs.find('ul', {'class': 'cnt-list'}).find_all('a'):\n",
    "            if 'href' in link.attrs:\n",
    "                if link.attrs['href'] not in ctrl_page:\n",
    "                    ctrl_page.add(f\"{link.attrs['href']}\")\n",
    "                    get_music(band,link.attrs['href'])\n",
    "    except Exception as e:\n",
    "        print(f'Ocorreu algum erro ao tentar acessar o site. {e}')"
   ]
  },
  {
   "cell_type": "markdown",
   "metadata": {},
   "source": [
    "### Captura todas as músicas de uma banda"
   ]
  },
  {
   "cell_type": "markdown",
   "metadata": {},
   "source": [
    "Captura todas as músicas de uma banda, grupo ou artista a partir da página www.letras.com.br/[banda/nome_da_música]."
   ]
  },
  {
   "cell_type": "code",
   "execution_count": 39,
   "metadata": {},
   "outputs": [],
   "source": [
    "def get_music(band, new_page):\n",
    "    music = ''\n",
    "    print(band)\n",
    "    try:\n",
    "        html = urlopen(f\"{url}/{new_page}\")\n",
    "        bs = BeautifulSoup(html, 'html.parser')\n",
    "        for verse in tqdm(bs.find('div', {'class': 'cnt-letra p402_premium'}).find_all('p')):\n",
    "            music += ' '.join(verse.stripped_strings)\n",
    "            music += ' '\n",
    "        title_music = bs.find('div', {'class': 'cnt-head_title'}).find_all('h1')[0]\n",
    "        title_music = ' '.join(title_music.stripped_strings) \n",
    "                                                   \n",
    "        save_lyrics(band, music, title_music)\n",
    "        print(\"Letra Capturada : \" + title_music)   \n",
    "    except Exception as e:\n",
    "        print(f'Ocorreu algum erro ao tentar acessar o site. {e}')"
   ]
  },
  {
   "cell_type": "markdown",
   "metadata": {},
   "source": [
    "### Salva letra de música em disco"
   ]
  },
  {
   "cell_type": "markdown",
   "metadata": {},
   "source": [
    "Salva letra de música em disco no formato .txt contanto o padrão '<b>band</b>$<b>title_music</b>.txt'"
   ]
  },
  {
   "cell_type": "code",
   "execution_count": 40,
   "metadata": {},
   "outputs": [],
   "source": [
    "def save_lyrics(band, music, title_music):\n",
    "    stopwords = nltk.corpus.stopwords.words('portuguese')\n",
    "    plain_text = ''\n",
    "    for m in music.split():\n",
    "        if len(m) >= 3:\n",
    "            m = ''.join(p for p in m if p not in string.punctuation)\n",
    "            if m.lower() not in stopwords:\n",
    "                plain_text += m.lower()+' '\n",
    "    try:\n",
    "        print(plain_text, file=open(\"data\" + os.sep +band + \"$\" + title_music+'.txt', 'w'))\n",
    "    except Exception as e:\n",
    "        print(f'Ocorreu algum erro ao tentar gravar o arquivo. {e}')"
   ]
  },
  {
   "cell_type": "markdown",
   "metadata": {},
   "source": [
    "### Capturando Letras de Músicas"
   ]
  },
  {
   "cell_type": "code",
   "execution_count": 41,
   "metadata": {},
   "outputs": [
    {
     "name": "stdout",
     "output_type": "stream",
     "text": [
      "Obtendo links/músicas\n",
      "Obtendo links/músicas\n"
     ]
    }
   ],
   "source": [
    "get_lyrics(\"beyonce\")\n",
    "get_lyrics(\"korn\")"
   ]
  },
  {
   "cell_type": "code",
   "execution_count": null,
   "metadata": {},
   "outputs": [],
   "source": []
  },
  {
   "cell_type": "code",
   "execution_count": null,
   "metadata": {},
   "outputs": [],
   "source": []
  },
  {
   "cell_type": "code",
   "execution_count": null,
   "metadata": {},
   "outputs": [],
   "source": []
  },
  {
   "cell_type": "code",
   "execution_count": null,
   "metadata": {},
   "outputs": [],
   "source": []
  }
 ],
 "metadata": {
  "kernelspec": {
   "display_name": "Python 3",
   "language": "python",
   "name": "python3"
  },
  "language_info": {
   "codemirror_mode": {
    "name": "ipython",
    "version": 3
   },
   "file_extension": ".py",
   "mimetype": "text/x-python",
   "name": "python",
   "nbconvert_exporter": "python",
   "pygments_lexer": "ipython3",
   "version": "3.8.5"
  }
 },
 "nbformat": 4,
 "nbformat_minor": 2
}
